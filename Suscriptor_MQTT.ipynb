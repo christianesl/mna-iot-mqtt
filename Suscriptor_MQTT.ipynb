{
 "cells": [
  {
   "cell_type": "code",
   "execution_count": 1,
   "metadata": {},
   "outputs": [],
   "source": [
    "import paho.mqtt.client as mqttClient\n",
    "import time"
   ]
  },
  {
   "cell_type": "code",
   "execution_count": 3,
   "metadata": {
    "scrolled": false
   },
   "outputs": [
    {
     "name": "stdout",
     "output_type": "stream",
     "text": [
      "Conectado al broker\n",
      "Conectado al broker\n",
      "Recepción de mensajes detenida por el usuario\n"
     ]
    }
   ],
   "source": [
    "def on_connect(client, userdata, flags, rc):\n",
    "    \"\"\"Función que establece la conexión\n",
    "    \n",
    "    \"\"\"\n",
    "    if rc==0:\n",
    "        print(\"Conectado al broker\")\n",
    "        global Connected\n",
    "        Connected = True\n",
    "    else:\n",
    "        print(\"Falla en la conexión\")\n",
    "    return\n",
    "\n",
    "def on_message(client,userdata,message):\n",
    "    \"\"\"Función que recibe los mensajes del broker\n",
    "    \n",
    "    \"\"\"\n",
    "    print(\"Mensaje - {}:{}\".format(message.topic, message.payload))\n",
    "    return\n",
    "\n",
    "Connected = False  #variable para verificar el estado de la conexión\n",
    "broker_address=\"broker.hivemq.com\" #dirección del Broker\n",
    "port= 1883 #puerto por defecto de MQTT\n",
    "tag = \"/MNA/IoT/CompProf/#\"  #tag, etiqueta o tópico\n",
    "\n",
    "client1=mqttClient.Client(\"cliente\")\n",
    "client1.on_connect=on_connect\n",
    "client1.on_message=on_message\n",
    "client1.connect(broker_address,port)\n",
    "client1.loop_start()\n",
    "\n",
    "while Connected != True:\n",
    "    time.sleep(0.1)\n",
    "    client1.subscribe(tag)\n",
    "    try:\n",
    "        while True:\n",
    "            time.sleep(1)\n",
    "    except KeyboardInterrupt:\n",
    "        print(\"Recepción de mensajes detenida por el usuario\")\n",
    "        client1.disconnect()\n",
    "        client1.loop_stop()"
   ]
  },
  {
   "cell_type": "code",
   "execution_count": null,
   "metadata": {},
   "outputs": [],
   "source": []
  },
  {
   "cell_type": "code",
   "execution_count": null,
   "metadata": {},
   "outputs": [],
   "source": []
  },
  {
   "cell_type": "code",
   "execution_count": null,
   "metadata": {},
   "outputs": [],
   "source": []
  },
  {
   "cell_type": "code",
   "execution_count": null,
   "metadata": {},
   "outputs": [],
   "source": []
  }
 ],
 "metadata": {
  "kernelspec": {
   "display_name": "Python 3",
   "language": "python",
   "name": "python3"
  },
  "language_info": {
   "codemirror_mode": {
    "name": "ipython",
    "version": 3
   },
   "file_extension": ".py",
   "mimetype": "text/x-python",
   "name": "python",
   "nbconvert_exporter": "python",
   "pygments_lexer": "ipython3",
   "version": "3.7.1"
  }
 },
 "nbformat": 4,
 "nbformat_minor": 2
}
